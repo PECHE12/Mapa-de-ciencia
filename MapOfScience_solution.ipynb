{
 "cells": [
  {
   "cell_type": "markdown",
   "metadata": {},
   "source": [
    "# Solution of 5.9.2, Map of Science \n",
    "### Read the file `pubmed_results.txt`, and extract all the US ZIP codes."
   ]
  },
  {
   "cell_type": "markdown",
   "metadata": {},
   "source": [
    "First, import the modules we'll need."
   ]
  },
  {
   "cell_type": "code",
   "execution_count": 261,
   "metadata": {},
   "outputs": [],
   "source": [
    "import re\n",
    "import csv"
   ]
  },
  {
   "cell_type": "markdown",
   "metadata": {},
   "source": [
    "Now read the whole file, and store it into a string."
   ]
  },
  {
   "cell_type": "code",
   "execution_count": 262,
   "metadata": {},
   "outputs": [],
   "source": [
    "with open(\"pubmed-beard-set.txt\", encoding=\"utf8\") as f1:\n",
    "    my_text = f1.read()"
   ]
  },
  {
   "cell_type": "code",
   "execution_count": 263,
   "metadata": {},
   "outputs": [
    {
     "data": {
      "text/plain": [
       "21840132"
      ]
     },
     "execution_count": 263,
     "metadata": {},
     "output_type": "execute_result"
    }
   ],
   "source": [
    "len(my_text)"
   ]
  },
  {
   "cell_type": "markdown",
   "metadata": {},
   "source": [
    "Note that the zipcode could be broken over two lines, as in line 43 of `pubmed_results.txt`\n",
    "\n",
    "```\n",
    "AD  - Biological and Biomedical Sciences Program, Harvard Medical School, Boston, MA\n",
    "      02115, USA. Department of Genetics, Harvard Medical School, Boston, MA 02115,\n",
    "      USA.\n",
    "```\n",
    "\n",
    "To avoid problems, replace each newline followed by 6 spaces with a single space."
   ]
  },
  {
   "cell_type": "code",
   "execution_count": 264,
   "metadata": {},
   "outputs": [],
   "source": [
    "my_text = re.sub(r'\\n\\s{6}', ' ', my_text)"
   ]
  },
  {
   "cell_type": "markdown",
   "metadata": {},
   "source": [
    "We should now have every entry in a single line. Let's look at part of an entry:"
   ]
  },
  {
   "cell_type": "code",
   "execution_count": 265,
   "metadata": {},
   "outputs": [
    {
     "name": "stdout",
     "output_type": "stream",
     "text": [
      "PMID- 32312510\n",
      "OWN - NLM\n",
      "STAT- MEDLINE\n",
      "DCOM- 20210127\n",
      "LR  - 20210127\n",
      "IS  - 1558-1926 (Electronic)\n",
      "IS  - 1064-7406 (Linking)\n",
      "VI  - 28\n",
      "IP  - 2\n",
      "DP  - 2020 May\n",
      "TI  - Beard Hair Transplantation.\n",
      "PG  - 237-241\n",
      "LID - S1064-7406(20)30011-0 [pii]\n",
      "LID - 10.1016/j.fsc.2020.01.010 [doi]\n",
      "AB  - In the field of hair restoration, there has been a significant increase in demand  with patients for facial hair transplantation procedures. Modern techniques in hair  transplantation allow for facial hair transplantation and for the attainment of  natural-appearing results. Facial hair transplantation is a subspecialty within hair  restoration with many gratifying benefits for the patients as well as for the hair  restoration surgeon. Adapting these advanced techniques into a hair restoration  practice allows a surgeon to offer their patients these procedures and provides an  expanded artistic element to a hair restoration surgeon's practice.\n",
      "CI  - Copyright © 2020 Elsevier Inc. All rights reserved.\n",
      "FAU - Bared, Anthony\n",
      "AU  - Bared A\n",
      "AD  - Private Practice, Miami, FL, USA. Electronic address: abared@dranthonybared.com.\n",
      "LA  - eng\n",
      "PT  - Journal Article\n",
      "PT  - Review\n",
      "PL  - United States\n",
      "TA  - Facial Plast Surg Clin North Am\n",
      "JT  - Facial plastic surgery clinics of North America\n",
      "JID - 9414907\n",
      "SB  - IM\n",
      "MH  - Alopecia/*surgery\n",
      "MH  - Face/*surgery\n",
      "MH  - Female\n",
      "MH  - Hair/transplantation\n",
      "MH  - Hair Follicle/surgery/*transplantation\n",
      "MH  - Humans\n",
      "MH  - Male\n",
      "MH  - Patient Care Planning\n",
      "MH  - Patient Selection\n",
      "MH  - Postoperative Care\n",
      "MH  - Preoperative Care\n",
      "MH  - Skin Transplantation/adverse effects/*methods\n",
      "MH  - Transplantation, Autologous\n",
      "OTO - NOTNLM\n",
      "OT  - Beard hair transplantation\n",
      "OT  - Hair restoration\n",
      "OT  - Modern techniques\n",
      "OT  - Surgery\n",
      "COIS- Disclosure The author has nothing to disclose.\n",
      "EDAT- 2020/04/22 06:00\n",
      "MHDA- 2021/01/28 06:00\n",
      "CRDT- 2020/04/22 06:00\n",
      "PHST- 2020/04/22 06:00 [entrez]\n",
      "PHST- 2020/04/22 06:00 [pubmed]\n",
      "PHST- 2021/01/28 06:00 [medline]\n",
      "AID - S1064-7406(20)30011-0 [pii]\n",
      "AID - \n"
     ]
    }
   ],
   "source": [
    "print(my_text[:2000])"
   ]
  },
  {
   "cell_type": "markdown",
   "metadata": {},
   "source": [
    "Now write a regular expression that creates a list of zipcodes:"
   ]
  },
  {
   "cell_type": "code",
   "execution_count": 266,
   "metadata": {},
   "outputs": [],
   "source": [
    "Rexs = re.findall(r'[A-Z]{2}\\s(\\d{5}), USA', my_text)\n"
   ]
  },
  {
   "cell_type": "markdown",
   "metadata": {},
   "source": [
    "The anatomy of the regular expression:\n",
    "```\n",
    "[A-Z]{2}  -> two capital letters (for the state)\n",
    "\\s -> followed by a space\n",
    "\\d{5} -> followed by exactly 5 digits\n",
    ", USA -> follwed by the string \", USA\"\n",
    "```\n",
    "Note that we use a group `(\\d{5})` to capture exclusively the zipcode proper."
   ]
  },
  {
   "cell_type": "code",
   "execution_count": 267,
   "metadata": {},
   "outputs": [
    {
     "data": {
      "text/plain": [
       "909"
      ]
     },
     "execution_count": 267,
     "metadata": {},
     "output_type": "execute_result"
    }
   ],
   "source": [
    "len(Rexs)"
   ]
  },
  {
   "cell_type": "code",
   "execution_count": 268,
   "metadata": {},
   "outputs": [
    {
     "data": {
      "text/plain": [
       "['67214',\n",
       " '33143',\n",
       " '10021',\n",
       " '38138',\n",
       " '80521',\n",
       " '66045',\n",
       " '27709',\n",
       " '30341',\n",
       " '80262',\n",
       " '66506']"
      ]
     },
     "execution_count": 268,
     "metadata": {},
     "output_type": "execute_result"
    }
   ],
   "source": [
    "Rexs[:10]"
   ]
  },
  {
   "cell_type": "markdown",
   "metadata": {},
   "source": [
    "Extract the unique zipcodes "
   ]
  },
  {
   "cell_type": "code",
   "execution_count": 269,
   "metadata": {},
   "outputs": [],
   "source": [
    "unique_Rexs = list(set(Rexs))"
   ]
  },
  {
   "cell_type": "code",
   "execution_count": 270,
   "metadata": {},
   "outputs": [],
   "source": [
    "unique_Rexs.sort()"
   ]
  },
  {
   "cell_type": "code",
   "execution_count": 271,
   "metadata": {},
   "outputs": [
    {
     "data": {
      "text/plain": [
       "['01003',\n",
       " '01605',\n",
       " '01610',\n",
       " '01730',\n",
       " '02114',\n",
       " '02115',\n",
       " '02118',\n",
       " '02138',\n",
       " '02139',\n",
       " '02141']"
      ]
     },
     "execution_count": 271,
     "metadata": {},
     "output_type": "execute_result"
    }
   ],
   "source": [
    "unique_Rexs[:10]"
   ]
  },
  {
   "cell_type": "code",
   "execution_count": 272,
   "metadata": {},
   "outputs": [
    {
     "data": {
      "text/plain": [
       "241"
      ]
     },
     "execution_count": 272,
     "metadata": {},
     "output_type": "execute_result"
    }
   ],
   "source": [
    "len(unique_Rexs)"
   ]
  },
  {
   "cell_type": "markdown",
   "metadata": {},
   "source": [
    "Now create a dictionary with the latitude and longitude for each zipcode:"
   ]
  },
  {
   "cell_type": "code",
   "execution_count": 273,
   "metadata": {},
   "outputs": [],
   "source": [
    "#Diccionario con codigo postal  de latitud y longitud\n",
    "coordinates = {}\n",
    "with open('cordenadas.csv') as f:\n",
    "    csvr = csv.DictReader(f)\n",
    "    for row in csvr:\n",
    "        zip_coordinates[row['ZIP']] = [float(row['LAT']), \n",
    "                                       float(row['LNG'])]"
   ]
  },
  {
   "cell_type": "markdown",
   "metadata": {},
   "source": [
    "### Create the lists `zip_code`, containing the ZIP codes, `zip_long`, `zip_lat`, and `zip_count`, containing the unique ZIP codes, their longitude, latitude, and count (number of occurrences in Science), respectively."
   ]
  },
  {
   "cell_type": "code",
   "execution_count": 274,
   "metadata": {},
   "outputs": [],
   "source": [
    "#Lista de información para graficar\n",
    "code = []\n",
    "long = []\n",
    "lat = []\n",
    "count = [] #Veces publicadas en cada pais"
   ]
  },
  {
   "cell_type": "markdown",
   "metadata": {},
   "source": [
    "Populate the lists:"
   ]
  },
  {
   "cell_type": "code",
   "execution_count": 275,
   "metadata": {},
   "outputs": [],
   "source": [
    "#Repetición de proceso por cada codigo postal\n",
    "for peche in unique_Rexs:\n",
    "    # if we can find the coordinates\n",
    "    if peche in coordinates.keys():\n",
    "        code.append(peche)\n",
    "        lat.append(coordinates[peche][0])\n",
    "        long.append(coordinates[peche][1])\n",
    "        contador.append(Rexs.count(peche))"
   ]
  },
  {
   "cell_type": "markdown",
   "metadata": {},
   "source": [
    "### Plot the results using the following code:"
   ]
  },
  {
   "cell_type": "code",
   "execution_count": 259,
   "metadata": {},
   "outputs": [
    {
     "data": {
      "image/png": "[encoded data removed]",
      "text/plain": [
       "<Figure size 1296x864 with 2 Axes>"
      ]
     },
     "metadata": {
      "needs_background": "light"
     },
     "output_type": "display_data"
    }
   ],
   "source": [
    "import matplotlib.pyplot as plt\n",
    "%matplotlib inline\n",
    "plt.scatter(zip_long, zip_lat, s = zip_count, c= zip_count)\n",
    "plt.colorbar()\n",
    "# only continental us without Alaska\n",
    "plt.xlim(-125,-65)\n",
    "plt.ylim(23, 50)\n",
    "# add a few cities for reference (optional)\n",
    "ard = dict(arrowstyle=\"->\")\n",
    "plt.annotate('France', xy = (-118.25, 34.05), \n",
    "               xytext = (-108.25, 34.05), arrowprops = ard)\n",
    "plt.annotate('Germany', xy = (-122.1381, 37.4292), \n",
    "               xytext = (-112.1381, 37.4292), arrowprops= ard)\n",
    "plt.annotate('Spain', xy = (-71.1106, 42.3736), \n",
    "               xytext = (-73.1106, 48.3736), arrowprops= ard)\n",
    "plt.annotate('China', xy = (-87.6847, 41.8369), \n",
    "               xytext = (-87.6847, 46.8369), arrowprops= ard)\n",
    "plt.annotate('Turkey', xy = (-122.33, 47.61), \n",
    "               xytext = (-116.33, 47.61), arrowprops= ard)\n",
    "plt.annotate('USA', xy = (-80.21, 25.7753), \n",
    "               xytext = (-80.21, 30.7753), arrowprops= ard)\n",
    "params = plt.gcf()\n",
    "plSize = params.get_size_inches()\n",
    "params.set_size_inches( (plSize[0] * 3, plSize[1] * 3) )\n",
    "plt.show()"
   ]
  }
 ],
 "metadata": {
  "kernelspec": {
   "display_name": "Python 3",
   "language": "python",
   "name": "python3"
  },
  "language_info": {
   "codemirror_mode": {
    "name": "ipython",
    "version": 3
   },
   "file_extension": ".py",
   "mimetype": "text/x-python",
   "name": "python",
   "nbconvert_exporter": "python",
   "pygments_lexer": "ipython3",
   "version": "3.8.8"
  }
 },
 "nbformat": 4,
 "nbformat_minor": 4
}
