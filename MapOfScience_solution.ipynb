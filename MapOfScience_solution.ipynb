{
 "cells": [
  {
   "cell_type": "markdown",
   "metadata": {},
   "source": [
    "# Solution of 5.9.2, Map of Science \n",
    "### Read the file `pubmed_results.txt`, and extract all the US ZIP codes."
   ]
  },
  {
   "cell_type": "markdown",
   "metadata": {},
   "source": [
    "First, import the modules we'll need."
   ]
  },
  {
   "cell_type": "code",
   "execution_count": 66,
   "metadata": {},
   "outputs": [],
   "source": [
    "import re\n",
    "import csv"
   ]
  },
  {
   "cell_type": "markdown",
   "metadata": {},
   "source": [
    "Now read the whole file, and store it into a string."
   ]
  },
  {
   "cell_type": "code",
   "execution_count": 67,
   "metadata": {},
   "outputs": [],
   "source": [
    "with open('pubmed-breastcanc-set.txt') as f:\n",
    "    my_text = f.read()"
   ]
  },
  {
   "cell_type": "code",
   "execution_count": 68,
   "metadata": {},
   "outputs": [
    {
     "data": {
      "text/plain": [
       "31192"
      ]
     },
     "execution_count": 68,
     "metadata": {},
     "output_type": "execute_result"
    }
   ],
   "source": [
    "len(my_text)"
   ]
  },
  {
   "cell_type": "markdown",
   "metadata": {},
   "source": [
    "Note that the zipcode could be broken over two lines, as in line 43 of `pubmed_results.txt`\n",
    "\n",
    "```\n",
    "AD  - Biological and Biomedical Sciences Program, Harvard Medical School, Boston, MA\n",
    "      02115, USA. Department of Genetics, Harvard Medical School, Boston, MA 02115,\n",
    "      USA.\n",
    "```\n",
    "\n",
    "To avoid problems, replace each newline followed by 6 spaces with a single space."
   ]
  },
  {
   "cell_type": "code",
   "execution_count": 69,
   "metadata": {},
   "outputs": [],
   "source": [
    "my_text = re.sub(r'\\n\\s{6}', ' ', my_text)"
   ]
  },
  {
   "cell_type": "markdown",
   "metadata": {},
   "source": [
    "We should now have every entry in a single line. Let's look at part of an entry:"
   ]
  },
  {
   "cell_type": "code",
   "execution_count": 70,
   "metadata": {},
   "outputs": [
    {
     "name": "stdout",
     "output_type": "stream",
     "text": [
      "PMID- 27723074\n",
      "OWN - NLM\n",
      "STAT- MEDLINE\n",
      "DCOM- 20180712\n",
      "LR  - 20180712\n",
      "IS  - 0017-0011 (Print)\n",
      "IS  - 0017-0011 (Linking)\n",
      "VI  - 87\n",
      "IP  - 9\n",
      "DP  - 2016\n",
      "TI  - Breast cancer in young women.\n",
      "PG  - 659-663\n",
      "LID - 10.5603/GP.2016.0062 [doi]\n",
      "AB  - Breast cancer (BC) in young women is rare, affecting only 4-6% of women under the  age of 40. Regardless, BC remains the most common malignancy among younger patients.  Recently, a significant increase in BC rates has been observed among pre-menopausal  subjects. Breast cancer in young women requires special attention due to its  specific morphologic and prognostic characteristics and unique aspects, including  fertility preservation and psychosocial issues (e.g. its impact on family life and  career). Young women are more likely to have tumors with higher incidence of  negative clinicopathologic features (higher histological grade, more lymph node  positivity, lower estrogen receptor (ER) positivity, higher rates of Her2/neu  overexpression). Also, they tend to be diagnosed at more advanced stages of the  disease. That, in turn, contributes to less favorable prognosis as compared to older  women. Young women are generally treated similarly to older patients. Surgical  management includes mastectomy or breast-conserving surgery, followed by radiation  therapy (younger women have higher local recurrence rates than older women,  especially after breast-conserving therapy). Although the basics of chemotherapy are  the same for patients of all ages, younger women have some special considerations.  It is important to consider options for fertility preservation before starting  systemic treatment. Patients should have access to genetic testing as their results  may affect the choice of therapy. Younger women and their families should receive  adequate psychological support and counselling.\n",
      "FAU - Radecka, Barbara\n",
      "AU  - Radecka B\n",
      "AD  - Regional Cancer Centre in Opole, Poland. brad@onkologia.opole.pl.\n",
      "FAU - Litwiniuk, Maria\n",
      "AU  - Litwiniuk M\n",
      "L\n"
     ]
    }
   ],
   "source": [
    "print(my_text[:2000])"
   ]
  },
  {
   "cell_type": "markdown",
   "metadata": {},
   "source": [
    "Now write a regular expression that creates a list of zipcodes:"
   ]
  },
  {
   "cell_type": "code",
   "execution_count": 84,
   "metadata": {},
   "outputs": [],
   "source": [
    "Rexs = re.findall(r'[A-Z]{2}\\s(\\d{5}), USA', my_text)\n",
    "Rexs = re.findall(r'[A-Z]{2}\\s(\\d{5}), India', my_text)\n",
    "Rexs = re.findall(r'[A-Z]{2}\\s(\\d{5}), Germany', my_text)"
   ]
  },
  {
   "cell_type": "markdown",
   "metadata": {},
   "source": [
    "The anatomy of the regular expression:\n",
    "```\n",
    "[A-Z]{2}  -> two capital letters (for the state)\n",
    "\\s -> followed by a space\n",
    "\\d{5} -> followed by exactly 5 digits\n",
    ", USA -> follwed by the string \", USA\"\n",
    "```\n",
    "Note that we use a group `(\\d{5})` to capture exclusively the zipcode proper."
   ]
  },
  {
   "cell_type": "code",
   "execution_count": 85,
   "metadata": {},
   "outputs": [
    {
     "data": {
      "text/plain": [
       "0"
      ]
     },
     "execution_count": 85,
     "metadata": {},
     "output_type": "execute_result"
    }
   ],
   "source": [
    "len(Rexs)"
   ]
  },
  {
   "cell_type": "code",
   "execution_count": 86,
   "metadata": {},
   "outputs": [
    {
     "data": {
      "text/plain": [
       "[]"
      ]
     },
     "execution_count": 86,
     "metadata": {},
     "output_type": "execute_result"
    }
   ],
   "source": [
    "Rexs[:10]"
   ]
  },
  {
   "cell_type": "markdown",
   "metadata": {},
   "source": [
    "Extract the unique zipcodes "
   ]
  },
  {
   "cell_type": "code",
   "execution_count": 87,
   "metadata": {},
   "outputs": [],
   "source": [
    "unique_Rexs = list(set(Rexs))"
   ]
  },
  {
   "cell_type": "code",
   "execution_count": 88,
   "metadata": {},
   "outputs": [],
   "source": [
    "unique_Rexs.sort()"
   ]
  },
  {
   "cell_type": "code",
   "execution_count": 89,
   "metadata": {},
   "outputs": [
    {
     "data": {
      "text/plain": [
       "[]"
      ]
     },
     "execution_count": 89,
     "metadata": {},
     "output_type": "execute_result"
    }
   ],
   "source": [
    "unique_Rexs[:10]"
   ]
  },
  {
   "cell_type": "code",
   "execution_count": 90,
   "metadata": {},
   "outputs": [
    {
     "data": {
      "text/plain": [
       "0"
      ]
     },
     "execution_count": 90,
     "metadata": {},
     "output_type": "execute_result"
    }
   ],
   "source": [
    "len(unique_Rexs)"
   ]
  },
  {
   "cell_type": "markdown",
   "metadata": {},
   "source": [
    "Now create a dictionary with the latitude and longitude for each zipcode:"
   ]
  },
  {
   "cell_type": "code",
   "execution_count": 91,
   "metadata": {},
   "outputs": [],
   "source": [
    "#Diccionario con codigo postal  de latitud y longitud\n",
    "coordinates = {}\n",
    "with open('cordenadas.csv') as f:\n",
    "    csvr = csv.DictReader(f)\n",
    "    for row in csvr:\n",
    "        zip_coordinates[row['ZIP']] = [float(row['LAT']), \n",
    "                                       float(row['LNG'])]"
   ]
  },
  {
   "cell_type": "markdown",
   "metadata": {},
   "source": [
    "### Create the lists `zip_code`, containing the ZIP codes, `zip_long`, `zip_lat`, and `zip_count`, containing the unique ZIP codes, their longitude, latitude, and count (number of occurrences in Science), respectively."
   ]
  },
  {
   "cell_type": "code",
   "execution_count": 92,
   "metadata": {},
   "outputs": [],
   "source": [
    "#Lista de información para graficar\n",
    "code = []\n",
    "long = []\n",
    "lat = []\n",
    "count = [] #Veces publicadas en cada pais"
   ]
  },
  {
   "cell_type": "markdown",
   "metadata": {},
   "source": [
    "Populate the lists:"
   ]
  },
  {
   "cell_type": "code",
   "execution_count": 93,
   "metadata": {},
   "outputs": [],
   "source": [
    "#Repetición de proceso por cada codigo postal\n",
    "for peche in unique_Rexs:\n",
    "    # if we can find the coordinates\n",
    "    if z in coordinates.keys():\n",
    "        code.append(peche)\n",
    "        lat.append(coordinates[peche][0])\n",
    "        long.append(coordinates[peche][1])\n",
    "        contador.append(Rexs.count(peche))"
   ]
  },
  {
   "cell_type": "markdown",
   "metadata": {},
   "source": [
    "### Plot the results using the following code:"
   ]
  },
  {
   "cell_type": "code",
   "execution_count": 95,
   "metadata": {},
   "outputs": [
    {
     "data": {
      "image/png": "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\n",
      "text/plain": [
       "<Figure size 1296x864 with 2 Axes>"
      ]
     },
     "metadata": {
      "needs_background": "light"
     },
     "output_type": "display_data"
    }
   ],
   "source": [
    "import matplotlib.pyplot as plt\n",
    "%matplotlib inline\n",
    "plt.scatter(long, lat, s = count, c= count)\n",
    "plt.colorbar()\n",
    "# only continental us without Alaska\n",
    "plt.xlim(-125,-65)\n",
    "plt.ylim(23, 50)\n",
    "# add a few cities for reference (optional)\n",
    "ard = dict(arrowstyle=\"->\")\n",
    "plt.annotate('USA', xy = (-118.25, 34.05), \n",
    "               xytext = (-108.25, 34.05), arrowprops = ard)\n",
    "plt.annotate('India', xy = (-122.1381, 37.4292), \n",
    "               xytext = (-112.1381, 37.4292), arrowprops= ard)\n",
    "plt.annotate('Germany', xy = (-71.1106, 42.3736), \n",
    "               xytext = (-73.1106, 48.3736), arrowprops= ard)\n",
    "\n",
    "params = plt.gcf()\n",
    "plSize = params.get_size_inches()\n",
    "params.set_size_inches( (plSize[0] * 3, plSize[1] * 3) )\n",
    "plt.show()"
   ]
  },
  {
   "cell_type": "code",
   "execution_count": 96,
   "metadata": {},
   "outputs": [
    {
     "ename": "NameError",
     "evalue": "name 'zicode' is not defined",
     "output_type": "error",
     "traceback": [
      "\u001b[1;31m---------------------------------------------------------------------------\u001b[0m",
      "\u001b[1;31mNameError\u001b[0m                                 Traceback (most recent call last)",
      "\u001b[1;32m<ipython-input-96-d619c44bb83f>\u001b[0m in \u001b[0;36m<module>\u001b[1;34m\u001b[0m\n\u001b[1;32m----> 1\u001b[1;33m \u001b[0mzicode\u001b[0m\u001b[1;33m.\u001b[0m\u001b[0mindex\u001b[0m\u001b[1;33m(\u001b[0m\u001b[1;34m'60637'\u001b[0m\u001b[1;33m)\u001b[0m\u001b[1;33m\u001b[0m\u001b[1;33m\u001b[0m\u001b[0m\n\u001b[0m",
      "\u001b[1;31mNameError\u001b[0m: name 'zicode' is not defined"
     ]
    }
   ],
   "source": [
    "zicode.index('60637')"
   ]
  },
  {
   "cell_type": "code",
   "execution_count": 97,
   "metadata": {},
   "outputs": [
    {
     "ename": "IndexError",
     "evalue": "list index out of range",
     "output_type": "error",
     "traceback": [
      "\u001b[1;31m---------------------------------------------------------------------------\u001b[0m",
      "\u001b[1;31mIndexError\u001b[0m                                Traceback (most recent call last)",
      "\u001b[1;32m<ipython-input-97-602112a7b36f>\u001b[0m in \u001b[0;36m<module>\u001b[1;34m\u001b[0m\n\u001b[1;32m----> 1\u001b[1;33m \u001b[0mcount\u001b[0m\u001b[1;33m[\u001b[0m\u001b[1;36m23\u001b[0m\u001b[1;33m]\u001b[0m\u001b[1;33m\u001b[0m\u001b[1;33m\u001b[0m\u001b[0m\n\u001b[0m",
      "\u001b[1;31mIndexError\u001b[0m: list index out of range"
     ]
    }
   ],
   "source": [
    "count[235]"
   ]
  },
  {
   "cell_type": "code",
   "execution_count": null,
   "metadata": {},
   "outputs": [],
   "source": []
  },
  {
   "cell_type": "code",
   "execution_count": null,
   "metadata": {},
   "outputs": [],
   "source": []
  }
 ],
 "metadata": {
  "kernelspec": {
   "display_name": "Python 3",
   "language": "python",
   "name": "python3"
  },
  "language_info": {
   "codemirror_mode": {
    "name": "ipython",
    "version": 3
   },
   "file_extension": ".py",
   "mimetype": "text/x-python",
   "name": "python",
   "nbconvert_exporter": "python",
   "pygments_lexer": "ipython3",
   "version": "3.8.8"
  }
 },
 "nbformat": 4,
 "nbformat_minor": 4
}
:bug:
